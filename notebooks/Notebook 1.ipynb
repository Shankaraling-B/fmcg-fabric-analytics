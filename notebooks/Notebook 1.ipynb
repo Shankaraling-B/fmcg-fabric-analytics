{
 "cells": [
  {
   "cell_type": "markdown",
   "id": "4c14fc13",
   "metadata": {},
   "source": [
    "# One time Creation of tables in the Lakehouse."
   ]
  },
  {
   "cell_type": "code",
   "execution_count": null,
   "id": "11d35dc2",
   "metadata": {},
   "outputs": [],
   "source": [
    "spark.sql(\"\"\"\n",
    "CREATE TABLE IF NOT EXISTS meta_watermark (\n",
    "  table_name STRING,\n",
    "  max_date   DATE\n",
    ") USING delta\n",
    "\"\"\")\n",
    "\n",
    "spark.sql(\"\"\"\n",
    "CREATE TABLE IF NOT EXISTS meta_audit_log (\n",
    "  run_ts TIMESTAMP,\n",
    "  source_glob STRING,\n",
    "  rows_in BIGINT,\n",
    "  rows_out BIGINT,\n",
    "  min_date DATE,\n",
    "  max_date DATE\n",
    ") USING delta\n",
    "\"\"\")\n"
   ]
  }
 ],
 "metadata": {
  "language_info": {
   "name": "python"
  }
 },
 "nbformat": 4,
 "nbformat_minor": 5
}
